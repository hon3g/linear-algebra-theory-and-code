{
 "cells": [
  {
   "cell_type": "markdown",
   "metadata": {},
   "source": [
    "### A zoo of matrices"
   ]
  },
  {
   "cell_type": "code",
   "execution_count": 2,
   "metadata": {},
   "outputs": [],
   "source": [
    "import numpy as np"
   ]
  },
  {
   "cell_type": "code",
   "execution_count": 23,
   "metadata": {},
   "outputs": [
    {
     "name": "stdout",
     "output_type": "stream",
     "text": [
      "[[-0.62159978  0.3792484   0.32303348  0.07488851 -2.78427871]\n",
      " [ 0.97891135 -0.39787205 -0.48633442 -0.40876008  3.18915808]\n",
      " [-2.14963016  1.39204898 -0.73699978 -0.55064547  0.69770615]\n",
      " [ 0.73168347 -1.31123024  1.33661571 -0.69887327 -0.99149088]\n",
      " [ 0.38228314 -1.5311615   0.52074445 -1.41209392 -0.40111368]]\n",
      "\n",
      "[[ 0.19606443  0.53746371]\n",
      " [-0.73223529 -0.37096323]\n",
      " [-1.01471095  0.61494459]\n",
      " [-0.75961861  0.87082403]\n",
      " [-0.93316271 -0.17018335]]\n"
     ]
    }
   ],
   "source": [
    "Square      = np.random.randn(5, 5)\n",
    "Rectangular = np.random.randn(5, 2)\n",
    "\n",
    "print(Square, Rectangular, sep='\\n\\n')"
   ]
  },
  {
   "cell_type": "code",
   "execution_count": 21,
   "metadata": {},
   "outputs": [
    {
     "name": "stdout",
     "output_type": "stream",
     "text": [
      "[[1. 0. 0.]\n",
      " [0. 1. 0.]\n",
      " [0. 0. 1.]]\n"
     ]
    }
   ],
   "source": [
    "# identity\n",
    "\n",
    "I = np.eye(3)\n",
    "print(I)"
   ]
  },
  {
   "cell_type": "code",
   "execution_count": 31,
   "metadata": {},
   "outputs": [
    {
     "name": "stdout",
     "output_type": "stream",
     "text": [
      "[[0 0 0 0]\n",
      " [0 0 0 0]\n",
      " [0 0 0 0]\n",
      " [0 0 0 0]]\n"
     ]
    }
   ],
   "source": [
    "# zeros\n",
    "\n",
    "Z = np.zeros((4, 4), dtype=int)\n",
    "print(Z)"
   ]
  },
  {
   "cell_type": "code",
   "execution_count": 33,
   "metadata": {},
   "outputs": [
    {
     "name": "stdout",
     "output_type": "stream",
     "text": [
      "[[1 0 0 0 0]\n",
      " [0 2 0 0 0]\n",
      " [0 0 3 0 0]\n",
      " [0 0 0 4 0]\n",
      " [0 0 0 0 5]]\n"
     ]
    }
   ],
   "source": [
    "# diagnonal\n",
    "\n",
    "D = np.diag([1,2,3,4,5])\n",
    "print(D)"
   ]
  },
  {
   "cell_type": "code",
   "execution_count": 36,
   "metadata": {},
   "outputs": [
    {
     "name": "stdout",
     "output_type": "stream",
     "text": [
      "[[-0.18625736  0.87821295 -1.64473085]\n",
      " [ 0.          0.34718482 -0.41657951]\n",
      " [ 0.          0.         -0.70478713]]\n",
      "\n",
      "[[-0.18625736  0.          0.        ]\n",
      " [-0.58369491  0.34718482  0.        ]\n",
      " [-0.29178159 -0.53794317 -0.70478713]]\n"
     ]
    }
   ],
   "source": [
    "# triangular\n",
    "\n",
    "S = np.random.randn(3, 3)\n",
    "\n",
    "U = np.triu(S)\n",
    "L = np.tril(S)\n",
    "\n",
    "print(U, L, sep='\\n\\n')"
   ]
  },
  {
   "cell_type": "code",
   "execution_count": 40,
   "metadata": {},
   "outputs": [
    {
     "name": "stdout",
     "output_type": "stream",
     "text": [
      "[[-0.33680865 -0.13890477 -0.53600618 -0.19114338 -0.59570909 -1.37168435]\n",
      " [-0.39627804  1.16617517  0.58733709 -0.67048958  0.24185779  0.47771485]\n",
      " [ 1.34224908 -0.93424105  0.20720806 -1.17667463 -0.23015412 -0.6394361 ]\n",
      " [-1.43943284 -0.72963022  0.11698272  1.02349358 -0.26398716 -0.15255042]]\n"
     ]
    }
   ],
   "source": [
    "# concatenate matrices\n",
    "\n",
    "A = np.random.randn(4, 2)\n",
    "B = np.random.randn(4, 4)\n",
    "\n",
    "C = np.concatenate((A, B), axis=1)\n",
    "\n",
    "print(C)"
   ]
  },
  {
   "cell_type": "code",
   "execution_count": 42,
   "metadata": {},
   "outputs": [
    {
     "name": "stdout",
     "output_type": "stream",
     "text": [
      "[[-0.29218466 -0.89028888 -0.94417298  0.10544818]\n",
      " [ 2.33335567  1.61649351  0.10195513 -1.20155761]\n",
      " [ 0.8257232   0.56522495  0.11397813 -1.91802663]\n",
      " [-0.77245935 -0.03447898  1.40281537  0.26553544]\n",
      " [-0.63376532  0.08724588  1.2745596  -0.44027889]\n",
      " [-0.95348089 -0.41190279  0.46532172  1.0456932 ]\n",
      " [ 0.79083569  2.20363943  1.04104777  0.22786232]]\n"
     ]
    }
   ],
   "source": [
    "A = np.random.randn(3, 4)\n",
    "B = np.random.randn(4, 4)\n",
    "\n",
    "C = np.concatenate((A, B), axis=0)\n",
    "\n",
    "print(C)"
   ]
  },
  {
   "cell_type": "markdown",
   "metadata": {},
   "source": [
    "###  Matrix + and -"
   ]
  },
  {
   "cell_type": "code",
   "execution_count": 51,
   "metadata": {},
   "outputs": [
    {
     "name": "stdout",
     "output_type": "stream",
     "text": [
      "operands could not be broadcast together with shapes (3,4) (3,3) \n",
      "\n",
      "\n",
      "[[ 0.43930996  1.02031349  3.282331    0.60891312]\n",
      " [-0.14345149 -0.92910097 -0.84878237  0.00831106]\n",
      " [-1.34086932 -1.86409315  0.31354025  0.08030837]]\n"
     ]
    }
   ],
   "source": [
    "# same dim\n",
    "\n",
    "A = np.random.randn(3, 4)\n",
    "B = np.random.randn(3, 3)\n",
    "C = np.random.randn(3, 4)\n",
    "\n",
    "try:\n",
    "    print(A + B)\n",
    "except ValueError as e:\n",
    "    print(e)\n",
    "print('\\n')\n",
    "print(C + A)"
   ]
  },
  {
   "cell_type": "code",
   "execution_count": 64,
   "metadata": {},
   "outputs": [
    {
     "name": "stdout",
     "output_type": "stream",
     "text": [
      "[[ 1.32058872  0.23264834  1.03944976]\n",
      " [ 0.590518    0.38501706 -0.26374421]\n",
      " [-1.14813628 -1.2009648   0.34774629]]\n",
      "\n",
      "\n",
      "[[ 9.99999023e+07  2.32648342e-01  1.03944976e+00]\n",
      " [ 5.90518003e-01  9.99999014e+07 -2.63744211e-01]\n",
      " [-1.14813628e+00 -1.20096480e+00  9.99999013e+07]]\n"
     ]
    }
   ],
   "source": [
    "# \"shifting\" a matrix (square only)\n",
    "N = 3\n",
    "\n",
    "A = np.random.randn(N, N)\n",
    "I = np.eye(N)            # same N dim\n",
    "lambda_ = 99999901\n",
    "\n",
    "print(A)\n",
    "print('\\n')\n",
    "print(A+lambda_*I)"
   ]
  },
  {
   "cell_type": "code",
   "execution_count": null,
   "metadata": {},
   "outputs": [],
   "source": []
  },
  {
   "cell_type": "code",
   "execution_count": null,
   "metadata": {},
   "outputs": [],
   "source": []
  },
  {
   "cell_type": "code",
   "execution_count": null,
   "metadata": {},
   "outputs": [],
   "source": []
  },
  {
   "cell_type": "code",
   "execution_count": null,
   "metadata": {},
   "outputs": [],
   "source": []
  },
  {
   "cell_type": "code",
   "execution_count": null,
   "metadata": {},
   "outputs": [],
   "source": []
  },
  {
   "cell_type": "code",
   "execution_count": null,
   "metadata": {},
   "outputs": [],
   "source": []
  }
 ],
 "metadata": {
  "kernelspec": {
   "display_name": "Python 3",
   "language": "python",
   "name": "python3"
  },
  "language_info": {
   "codemirror_mode": {
    "name": "ipython",
    "version": 3
   },
   "file_extension": ".py",
   "mimetype": "text/x-python",
   "name": "python",
   "nbconvert_exporter": "python",
   "pygments_lexer": "ipython3",
   "version": "3.8.5"
  }
 },
 "nbformat": 4,
 "nbformat_minor": 4
}
